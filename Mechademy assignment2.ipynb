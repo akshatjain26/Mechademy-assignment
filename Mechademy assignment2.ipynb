{
 "cells": [
  {
   "cell_type": "markdown",
   "metadata": {},
   "source": [
    "# Import required libraries"
   ]
  },
  {
   "cell_type": "code",
   "execution_count": 2,
   "metadata": {},
   "outputs": [],
   "source": [
    "import numpy as np\n",
    "import pandas as pd\n",
    "import matplotlib.pyplot as plt\n",
    "%matplotlib inline\n",
    "import seaborn as sns"
   ]
  },
  {
   "cell_type": "markdown",
   "metadata": {},
   "source": [
    "# Get the data"
   ]
  },
  {
   "cell_type": "code",
   "execution_count": 3,
   "metadata": {},
   "outputs": [],
   "source": [
    "data = pd.read_csv('Expander_data.csv')"
   ]
  },
  {
   "cell_type": "code",
   "execution_count": 4,
   "metadata": {},
   "outputs": [
    {
     "data": {
      "text/html": [
       "<div>\n",
       "<style scoped>\n",
       "    .dataframe tbody tr th:only-of-type {\n",
       "        vertical-align: middle;\n",
       "    }\n",
       "\n",
       "    .dataframe tbody tr th {\n",
       "        vertical-align: top;\n",
       "    }\n",
       "\n",
       "    .dataframe thead th {\n",
       "        text-align: right;\n",
       "    }\n",
       "</style>\n",
       "<table border=\"1\" class=\"dataframe\">\n",
       "  <thead>\n",
       "    <tr style=\"text-align: right;\">\n",
       "      <th></th>\n",
       "      <th>Timestamp</th>\n",
       "      <th>Suction Pressure (psig)</th>\n",
       "      <th>Suction Temperature (F)</th>\n",
       "      <th>Total Flow (gpm)</th>\n",
       "      <th>Speed (rpm)</th>\n",
       "      <th>By-pass Valve Position (%)</th>\n",
       "      <th>Discharge Pressure (psig)</th>\n",
       "      <th>Discharge Temperature (F)</th>\n",
       "      <th>Run Status</th>\n",
       "    </tr>\n",
       "  </thead>\n",
       "  <tbody>\n",
       "    <tr>\n",
       "      <th>0</th>\n",
       "      <td>1/4/2020 21:20</td>\n",
       "      <td>596.100853</td>\n",
       "      <td>-229.436683</td>\n",
       "      <td>7925.800487</td>\n",
       "      <td>2999.411045</td>\n",
       "      <td>6.0</td>\n",
       "      <td>226.044931</td>\n",
       "      <td>-227.614448</td>\n",
       "      <td>NaN</td>\n",
       "    </tr>\n",
       "    <tr>\n",
       "      <th>1</th>\n",
       "      <td>1/4/2020 21:20</td>\n",
       "      <td>596.838217</td>\n",
       "      <td>-230.453708</td>\n",
       "      <td>8085.917724</td>\n",
       "      <td>2989.706617</td>\n",
       "      <td>6.0</td>\n",
       "      <td>217.150974</td>\n",
       "      <td>-228.668636</td>\n",
       "      <td>NaN</td>\n",
       "    </tr>\n",
       "    <tr>\n",
       "      <th>2</th>\n",
       "      <td>1/4/2020 21:20</td>\n",
       "      <td>596.468895</td>\n",
       "      <td>-229.545356</td>\n",
       "      <td>7902.175243</td>\n",
       "      <td>3006.331679</td>\n",
       "      <td>6.0</td>\n",
       "      <td>226.054086</td>\n",
       "      <td>-227.755324</td>\n",
       "      <td>NaN</td>\n",
       "    </tr>\n",
       "    <tr>\n",
       "      <th>3</th>\n",
       "      <td>1/4/2020 21:20</td>\n",
       "      <td>603.568271</td>\n",
       "      <td>-230.309438</td>\n",
       "      <td>7991.808959</td>\n",
       "      <td>3010.487486</td>\n",
       "      <td>6.0</td>\n",
       "      <td>226.016182</td>\n",
       "      <td>-228.489113</td>\n",
       "      <td>NaN</td>\n",
       "    </tr>\n",
       "    <tr>\n",
       "      <th>4</th>\n",
       "      <td>1/4/2020 21:21</td>\n",
       "      <td>595.407372</td>\n",
       "      <td>-229.767969</td>\n",
       "      <td>7871.560747</td>\n",
       "      <td>2986.665518</td>\n",
       "      <td>6.0</td>\n",
       "      <td>227.769383</td>\n",
       "      <td>-227.971795</td>\n",
       "      <td>NaN</td>\n",
       "    </tr>\n",
       "  </tbody>\n",
       "</table>\n",
       "</div>"
      ],
      "text/plain": [
       "        Timestamp  Suction Pressure (psig)  Suction Temperature (F)  \\\n",
       "0  1/4/2020 21:20               596.100853              -229.436683   \n",
       "1  1/4/2020 21:20               596.838217              -230.453708   \n",
       "2  1/4/2020 21:20               596.468895              -229.545356   \n",
       "3  1/4/2020 21:20               603.568271              -230.309438   \n",
       "4  1/4/2020 21:21               595.407372              -229.767969   \n",
       "\n",
       "   Total Flow (gpm)  Speed (rpm)  By-pass Valve Position (%)  \\\n",
       "0       7925.800487  2999.411045                         6.0   \n",
       "1       8085.917724  2989.706617                         6.0   \n",
       "2       7902.175243  3006.331679                         6.0   \n",
       "3       7991.808959  3010.487486                         6.0   \n",
       "4       7871.560747  2986.665518                         6.0   \n",
       "\n",
       "   Discharge Pressure (psig)  Discharge Temperature (F)  Run Status  \n",
       "0                 226.044931                -227.614448         NaN  \n",
       "1                 217.150974                -228.668636         NaN  \n",
       "2                 226.054086                -227.755324         NaN  \n",
       "3                 226.016182                -228.489113         NaN  \n",
       "4                 227.769383                -227.971795         NaN  "
      ]
     },
     "execution_count": 4,
     "metadata": {},
     "output_type": "execute_result"
    }
   ],
   "source": [
    "data.head()"
   ]
  },
  {
   "cell_type": "code",
   "execution_count": 5,
   "metadata": {},
   "outputs": [
    {
     "name": "stdout",
     "output_type": "stream",
     "text": [
      "<class 'pandas.core.frame.DataFrame'>\n",
      "RangeIndex: 296450 entries, 0 to 296449\n",
      "Data columns (total 9 columns):\n",
      "Timestamp                     296450 non-null object\n",
      "Suction Pressure (psig)       296450 non-null float64\n",
      "Suction Temperature (F)       296450 non-null float64\n",
      "Total Flow (gpm)              296450 non-null float64\n",
      "Speed (rpm)                   296450 non-null float64\n",
      "By-pass Valve Position (%)    296450 non-null float64\n",
      "Discharge Pressure (psig)     296450 non-null float64\n",
      "Discharge Temperature (F)     296450 non-null float64\n",
      "Run Status                    0 non-null float64\n",
      "dtypes: float64(8), object(1)\n",
      "memory usage: 20.4+ MB\n"
     ]
    }
   ],
   "source": [
    "data.info()"
   ]
  },
  {
   "cell_type": "code",
   "execution_count": 6,
   "metadata": {},
   "outputs": [
    {
     "data": {
      "text/plain": [
       "<matplotlib.axes._subplots.AxesSubplot at 0x244c4968438>"
      ]
     },
     "execution_count": 6,
     "metadata": {},
     "output_type": "execute_result"
    },
    {
     "data": {
      "image/png": "[encoded data removed]",
      "text/plain": [
       "<Figure size 432x288 with 1 Axes>"
      ]
     },
     "metadata": {
      "needs_background": "light"
     },
     "output_type": "display_data"
    }
   ],
   "source": [
    "sns.distplot(data['Discharge Pressure (psig)'])"
   ]
  },
  {
   "cell_type": "code",
   "execution_count": 7,
   "metadata": {},
   "outputs": [],
   "source": [
    "data.drop(['Timestamp','Run Status'],axis =1,inplace =True)"
   ]
  },
  {
   "cell_type": "code",
   "execution_count": 8,
   "metadata": {},
   "outputs": [
    {
     "data": {
      "text/html": [
       "<div>\n",
       "<style scoped>\n",
       "    .dataframe tbody tr th:only-of-type {\n",
       "        vertical-align: middle;\n",
       "    }\n",
       "\n",
       "    .dataframe tbody tr th {\n",
       "        vertical-align: top;\n",
       "    }\n",
       "\n",
       "    .dataframe thead th {\n",
       "        text-align: right;\n",
       "    }\n",
       "</style>\n",
       "<table border=\"1\" class=\"dataframe\">\n",
       "  <thead>\n",
       "    <tr style=\"text-align: right;\">\n",
       "      <th></th>\n",
       "      <th>Suction Pressure (psig)</th>\n",
       "      <th>Suction Temperature (F)</th>\n",
       "      <th>Total Flow (gpm)</th>\n",
       "      <th>Speed (rpm)</th>\n",
       "      <th>By-pass Valve Position (%)</th>\n",
       "      <th>Discharge Pressure (psig)</th>\n",
       "      <th>Discharge Temperature (F)</th>\n",
       "    </tr>\n",
       "  </thead>\n",
       "  <tbody>\n",
       "    <tr>\n",
       "      <th>0</th>\n",
       "      <td>596.100853</td>\n",
       "      <td>-229.436683</td>\n",
       "      <td>7925.800487</td>\n",
       "      <td>2999.411045</td>\n",
       "      <td>6.0</td>\n",
       "      <td>226.044931</td>\n",
       "      <td>-227.614448</td>\n",
       "    </tr>\n",
       "    <tr>\n",
       "      <th>1</th>\n",
       "      <td>596.838217</td>\n",
       "      <td>-230.453708</td>\n",
       "      <td>8085.917724</td>\n",
       "      <td>2989.706617</td>\n",
       "      <td>6.0</td>\n",
       "      <td>217.150974</td>\n",
       "      <td>-228.668636</td>\n",
       "    </tr>\n",
       "    <tr>\n",
       "      <th>2</th>\n",
       "      <td>596.468895</td>\n",
       "      <td>-229.545356</td>\n",
       "      <td>7902.175243</td>\n",
       "      <td>3006.331679</td>\n",
       "      <td>6.0</td>\n",
       "      <td>226.054086</td>\n",
       "      <td>-227.755324</td>\n",
       "    </tr>\n",
       "    <tr>\n",
       "      <th>3</th>\n",
       "      <td>603.568271</td>\n",
       "      <td>-230.309438</td>\n",
       "      <td>7991.808959</td>\n",
       "      <td>3010.487486</td>\n",
       "      <td>6.0</td>\n",
       "      <td>226.016182</td>\n",
       "      <td>-228.489113</td>\n",
       "    </tr>\n",
       "    <tr>\n",
       "      <th>4</th>\n",
       "      <td>595.407372</td>\n",
       "      <td>-229.767969</td>\n",
       "      <td>7871.560747</td>\n",
       "      <td>2986.665518</td>\n",
       "      <td>6.0</td>\n",
       "      <td>227.769383</td>\n",
       "      <td>-227.971795</td>\n",
       "    </tr>\n",
       "  </tbody>\n",
       "</table>\n",
       "</div>"
      ],
      "text/plain": [
       "   Suction Pressure (psig)  Suction Temperature (F)  Total Flow (gpm)  \\\n",
       "0               596.100853              -229.436683       7925.800487   \n",
       "1               596.838217              -230.453708       8085.917724   \n",
       "2               596.468895              -229.545356       7902.175243   \n",
       "3               603.568271              -230.309438       7991.808959   \n",
       "4               595.407372              -229.767969       7871.560747   \n",
       "\n",
       "   Speed (rpm)  By-pass Valve Position (%)  Discharge Pressure (psig)  \\\n",
       "0  2999.411045                         6.0                 226.044931   \n",
       "1  2989.706617                         6.0                 217.150974   \n",
       "2  3006.331679                         6.0                 226.054086   \n",
       "3  3010.487486                         6.0                 226.016182   \n",
       "4  2986.665518                         6.0                 227.769383   \n",
       "\n",
       "   Discharge Temperature (F)  \n",
       "0                -227.614448  \n",
       "1                -228.668636  \n",
       "2                -227.755324  \n",
       "3                -228.489113  \n",
       "4                -227.971795  "
      ]
     },
     "execution_count": 8,
     "metadata": {},
     "output_type": "execute_result"
    }
   ],
   "source": [
    "data.head()"
   ]
  },
  {
   "cell_type": "markdown",
   "metadata": {},
   "source": [
    "# Visulization of data"
   ]
  },
  {
   "cell_type": "code",
   "execution_count": 18,
   "metadata": {},
   "outputs": [
    {
     "data": {
      "text/plain": [
       "<seaborn.axisgrid.JointGrid at 0x244c80999b0>"
      ]
     },
     "execution_count": 18,
     "metadata": {},
     "output_type": "execute_result"
    },
    {
     "data": {
      "image/png": "[encoded data removed]",
      "text/plain": [
       "<Figure size 432x432 with 3 Axes>"
      ]
     },
     "metadata": {
      "needs_background": "light"
     },
     "output_type": "display_data"
    }
   ],
   "source": [
    "sns.jointplot(x='Speed (rpm)',y='Discharge Pressure (psig)',data=data)"
   ]
  },
  {
   "cell_type": "code",
   "execution_count": 19,
   "metadata": {},
   "outputs": [
    {
     "data": {
      "text/plain": [
       "<seaborn.axisgrid.JointGrid at 0x244c95f1a20>"
      ]
     },
     "execution_count": 19,
     "metadata": {},
     "output_type": "execute_result"
    },
    {
     "data": {
      "image/png": "[encoded data removed]",
      "text/plain": [
       "<Figure size 432x432 with 3 Axes>"
      ]
     },
     "metadata": {
      "needs_background": "light"
     },
     "output_type": "display_data"
    }
   ],
   "source": [
    "sns.jointplot(x='Suction Pressure (psig)',y='Discharge Pressure (psig)',data=data)"
   ]
  },
  {
   "cell_type": "code",
   "execution_count": 20,
   "metadata": {},
   "outputs": [
    {
     "data": {
      "text/plain": [
       "<seaborn.axisgrid.JointGrid at 0x244cb4efeb8>"
      ]
     },
     "execution_count": 20,
     "metadata": {},
     "output_type": "execute_result"
    },
    {
     "data": {
      "image/png": "[encoded data removed]",
      "text/plain": [
       "<Figure size 432x432 with 3 Axes>"
      ]
     },
     "metadata": {
      "needs_background": "light"
     },
     "output_type": "display_data"
    }
   ],
   "source": [
    "sns.jointplot(x='Suction Temperature (F)',y='Discharge Pressure (psig)',data=data)"
   ]
  },
  {
   "cell_type": "code",
   "execution_count": 21,
   "metadata": {},
   "outputs": [
    {
     "data": {
      "text/plain": [
       "<seaborn.axisgrid.JointGrid at 0x244cc994b00>"
      ]
     },
     "execution_count": 21,
     "metadata": {},
     "output_type": "execute_result"
    },
    {
     "data": {
      "image/png": "[encoded data removed]",
      "text/plain": [
       "<Figure size 432x432 with 3 Axes>"
      ]
     },
     "metadata": {
      "needs_background": "light"
     },
     "output_type": "display_data"
    }
   ],
   "source": [
    "sns.jointplot(x='Total Flow (gpm)',y='Discharge Pressure (psig)',data=data)"
   ]
  },
  {
   "cell_type": "code",
   "execution_count": 47,
   "metadata": {},
   "outputs": [
    {
     "data": {
      "text/plain": [
       "<seaborn.axisgrid.JointGrid at 0x244d06c6fd0>"
      ]
     },
     "execution_count": 47,
     "metadata": {},
     "output_type": "execute_result"
    },
    {
     "data": {
      "image/png": "[encoded data removed]",
      "text/plain": [
       "<Figure size 432x432 with 3 Axes>"
      ]
     },
     "metadata": {
      "needs_background": "light"
     },
     "output_type": "display_data"
    }
   ],
   "source": [
    "sns.jointplot(x='Discharge Temperature (F)',y='Discharge Pressure (psig)',data=data)"
   ]
  },
  {
   "cell_type": "code",
   "execution_count": 49,
   "metadata": {},
   "outputs": [
    {
     "data": {
      "text/plain": [
       "<seaborn.axisgrid.JointGrid at 0x244d4607dd8>"
      ]
     },
     "execution_count": 49,
     "metadata": {},
     "output_type": "execute_result"
    },
    {
     "data": {
      "image/png": "[encoded data removed]",
      "text/plain": [
       "<Figure size 432x432 with 3 Axes>"
      ]
     },
     "metadata": {
      "needs_background": "light"
     },
     "output_type": "display_data"
    }
   ],
   "source": [
    "sns.jointplot(x='By-pass Valve Position (%)',y='Discharge Pressure (psig)',data=data)"
   ]
  },
  {
   "cell_type": "markdown",
   "metadata": {},
   "source": [
    "# standardization of data"
   ]
  },
  {
   "cell_type": "code",
   "execution_count": 22,
   "metadata": {},
   "outputs": [],
   "source": [
    "from sklearn.preprocessing import StandardScaler"
   ]
  },
  {
   "cell_type": "code",
   "execution_count": 23,
   "metadata": {},
   "outputs": [],
   "source": [
    "sc = StandardScaler()"
   ]
  },
  {
   "cell_type": "code",
   "execution_count": 24,
   "metadata": {},
   "outputs": [],
   "source": [
    "df = sc.fit_transform(data)"
   ]
  },
  {
   "cell_type": "code",
   "execution_count": 29,
   "metadata": {},
   "outputs": [
    {
     "data": {
      "text/plain": [
       "numpy.ndarray"
      ]
     },
     "execution_count": 29,
     "metadata": {},
     "output_type": "execute_result"
    }
   ],
   "source": [
    "type(df)"
   ]
  },
  {
   "cell_type": "code",
   "execution_count": 31,
   "metadata": {},
   "outputs": [],
   "source": [
    "#converting to dataframe\n",
    "df1 = pd.DataFrame(data = df,index = data.index,columns = data.columns)"
   ]
  },
  {
   "cell_type": "code",
   "execution_count": 32,
   "metadata": {},
   "outputs": [
    {
     "data": {
      "text/html": [
       "<div>\n",
       "<style scoped>\n",
       "    .dataframe tbody tr th:only-of-type {\n",
       "        vertical-align: middle;\n",
       "    }\n",
       "\n",
       "    .dataframe tbody tr th {\n",
       "        vertical-align: top;\n",
       "    }\n",
       "\n",
       "    .dataframe thead th {\n",
       "        text-align: right;\n",
       "    }\n",
       "</style>\n",
       "<table border=\"1\" class=\"dataframe\">\n",
       "  <thead>\n",
       "    <tr style=\"text-align: right;\">\n",
       "      <th></th>\n",
       "      <th>Suction Pressure (psig)</th>\n",
       "      <th>Suction Temperature (F)</th>\n",
       "      <th>Total Flow (gpm)</th>\n",
       "      <th>Speed (rpm)</th>\n",
       "      <th>By-pass Valve Position (%)</th>\n",
       "      <th>Discharge Pressure (psig)</th>\n",
       "      <th>Discharge Temperature (F)</th>\n",
       "    </tr>\n",
       "  </thead>\n",
       "  <tbody>\n",
       "    <tr>\n",
       "      <th>0</th>\n",
       "      <td>0.239463</td>\n",
       "      <td>0.595465</td>\n",
       "      <td>-0.487672</td>\n",
       "      <td>0.811683</td>\n",
       "      <td>1.605076</td>\n",
       "      <td>0.694845</td>\n",
       "      <td>0.601681</td>\n",
       "    </tr>\n",
       "    <tr>\n",
       "      <th>1</th>\n",
       "      <td>0.271224</td>\n",
       "      <td>0.310911</td>\n",
       "      <td>-0.085417</td>\n",
       "      <td>0.632639</td>\n",
       "      <td>1.605076</td>\n",
       "      <td>0.536604</td>\n",
       "      <td>0.306731</td>\n",
       "    </tr>\n",
       "    <tr>\n",
       "      <th>2</th>\n",
       "      <td>0.255316</td>\n",
       "      <td>0.565059</td>\n",
       "      <td>-0.547025</td>\n",
       "      <td>0.939367</td>\n",
       "      <td>1.605076</td>\n",
       "      <td>0.695008</td>\n",
       "      <td>0.562266</td>\n",
       "    </tr>\n",
       "    <tr>\n",
       "      <th>3</th>\n",
       "      <td>0.561106</td>\n",
       "      <td>0.351276</td>\n",
       "      <td>-0.321842</td>\n",
       "      <td>1.016040</td>\n",
       "      <td>1.605076</td>\n",
       "      <td>0.694334</td>\n",
       "      <td>0.356960</td>\n",
       "    </tr>\n",
       "    <tr>\n",
       "      <th>4</th>\n",
       "      <td>0.209593</td>\n",
       "      <td>0.502774</td>\n",
       "      <td>-0.623936</td>\n",
       "      <td>0.576532</td>\n",
       "      <td>1.605076</td>\n",
       "      <td>0.725527</td>\n",
       "      <td>0.501699</td>\n",
       "    </tr>\n",
       "  </tbody>\n",
       "</table>\n",
       "</div>"
      ],
      "text/plain": [
       "   Suction Pressure (psig)  Suction Temperature (F)  Total Flow (gpm)  \\\n",
       "0                 0.239463                 0.595465         -0.487672   \n",
       "1                 0.271224                 0.310911         -0.085417   \n",
       "2                 0.255316                 0.565059         -0.547025   \n",
       "3                 0.561106                 0.351276         -0.321842   \n",
       "4                 0.209593                 0.502774         -0.623936   \n",
       "\n",
       "   Speed (rpm)  By-pass Valve Position (%)  Discharge Pressure (psig)  \\\n",
       "0     0.811683                    1.605076                   0.694845   \n",
       "1     0.632639                    1.605076                   0.536604   \n",
       "2     0.939367                    1.605076                   0.695008   \n",
       "3     1.016040                    1.605076                   0.694334   \n",
       "4     0.576532                    1.605076                   0.725527   \n",
       "\n",
       "   Discharge Temperature (F)  \n",
       "0                   0.601681  \n",
       "1                   0.306731  \n",
       "2                   0.562266  \n",
       "3                   0.356960  \n",
       "4                   0.501699  "
      ]
     },
     "execution_count": 32,
     "metadata": {},
     "output_type": "execute_result"
    }
   ],
   "source": [
    "df1.head()"
   ]
  },
  {
   "cell_type": "markdown",
   "metadata": {},
   "source": [
    "# Training and testing data"
   ]
  },
  {
   "cell_type": "code",
   "execution_count": 33,
   "metadata": {},
   "outputs": [],
   "source": [
    "y = df1['Discharge Pressure (psig)']\n",
    "x = df1.drop('Discharge Pressure (psig)',axis =1)"
   ]
  },
  {
   "cell_type": "code",
   "execution_count": 35,
   "metadata": {},
   "outputs": [],
   "source": [
    "from sklearn.model_selection import train_test_split"
   ]
  },
  {
   "cell_type": "code",
   "execution_count": 36,
   "metadata": {},
   "outputs": [],
   "source": [
    "x_train, x_test, y_train, y_test = train_test_split(x, y, test_size=0.2, random_state=42)"
   ]
  },
  {
   "cell_type": "markdown",
   "metadata": {},
   "source": [
    "# Training the model"
   ]
  },
  {
   "cell_type": "code",
   "execution_count": 37,
   "metadata": {},
   "outputs": [],
   "source": [
    "from sklearn.linear_model import LinearRegression"
   ]
  },
  {
   "cell_type": "code",
   "execution_count": 38,
   "metadata": {},
   "outputs": [],
   "source": [
    "lm = LinearRegression()"
   ]
  },
  {
   "cell_type": "code",
   "execution_count": 39,
   "metadata": {},
   "outputs": [
    {
     "data": {
      "text/plain": [
       "LinearRegression(copy_X=True, fit_intercept=True, n_jobs=None, normalize=False)"
      ]
     },
     "execution_count": 39,
     "metadata": {},
     "output_type": "execute_result"
    }
   ],
   "source": [
    "lm.fit(x_train,y_train)"
   ]
  },
  {
   "cell_type": "markdown",
   "metadata": {},
   "source": [
    "# Model Evaluation\n",
    "#Let's evaluate the model by checking out it's coefficients and how we can interpret them."
   ]
  },
  {
   "cell_type": "code",
   "execution_count": 40,
   "metadata": {},
   "outputs": [
    {
     "name": "stdout",
     "output_type": "stream",
     "text": [
      "Coefficients: \n",
      " [ 0.37429979  0.0654786  -0.49879591 -0.06211442  0.21962506 -0.00444688]\n"
     ]
    }
   ],
   "source": [
    "print('Coefficients: \\n', lm.coef_)"
   ]
  },
  {
   "cell_type": "code",
   "execution_count": 46,
   "metadata": {},
   "outputs": [
    {
     "data": {
      "text/html": [
       "<div>\n",
       "<style scoped>\n",
       "    .dataframe tbody tr th:only-of-type {\n",
       "        vertical-align: middle;\n",
       "    }\n",
       "\n",
       "    .dataframe tbody tr th {\n",
       "        vertical-align: top;\n",
       "    }\n",
       "\n",
       "    .dataframe thead th {\n",
       "        text-align: right;\n",
       "    }\n",
       "</style>\n",
       "<table border=\"1\" class=\"dataframe\">\n",
       "  <thead>\n",
       "    <tr style=\"text-align: right;\">\n",
       "      <th></th>\n",
       "      <th>Coefficient</th>\n",
       "    </tr>\n",
       "  </thead>\n",
       "  <tbody>\n",
       "    <tr>\n",
       "      <th>Suction Pressure (psig)</th>\n",
       "      <td>0.374300</td>\n",
       "    </tr>\n",
       "    <tr>\n",
       "      <th>Suction Temperature (F)</th>\n",
       "      <td>0.065479</td>\n",
       "    </tr>\n",
       "    <tr>\n",
       "      <th>Total Flow (gpm)</th>\n",
       "      <td>-0.498796</td>\n",
       "    </tr>\n",
       "    <tr>\n",
       "      <th>Speed (rpm)</th>\n",
       "      <td>-0.062114</td>\n",
       "    </tr>\n",
       "    <tr>\n",
       "      <th>By-pass Valve Position (%)</th>\n",
       "      <td>0.219625</td>\n",
       "    </tr>\n",
       "    <tr>\n",
       "      <th>Discharge Temperature (F)</th>\n",
       "      <td>-0.004447</td>\n",
       "    </tr>\n",
       "  </tbody>\n",
       "</table>\n",
       "</div>"
      ],
      "text/plain": [
       "                            Coefficient\n",
       "Suction Pressure (psig)        0.374300\n",
       "Suction Temperature (F)        0.065479\n",
       "Total Flow (gpm)              -0.498796\n",
       "Speed (rpm)                   -0.062114\n",
       "By-pass Valve Position (%)     0.219625\n",
       "Discharge Temperature (F)     -0.004447"
      ]
     },
     "execution_count": 46,
     "metadata": {},
     "output_type": "execute_result"
    }
   ],
   "source": [
    "coeff_df = pd.DataFrame(lm.coef_,x.columns,columns=['Coefficient'])\n",
    "coeff_df"
   ]
  },
  {
   "cell_type": "markdown",
   "metadata": {},
   "source": [
    "# Predicting test data"
   ]
  },
  {
   "cell_type": "code",
   "execution_count": 41,
   "metadata": {},
   "outputs": [],
   "source": [
    "predictions = lm.predict(x_test)"
   ]
  },
  {
   "cell_type": "markdown",
   "metadata": {},
   "source": [
    "# Evaluating the model"
   ]
  },
  {
   "cell_type": "code",
   "execution_count": 42,
   "metadata": {},
   "outputs": [
    {
     "data": {
      "text/plain": [
       "Text(0, 0.5, 'Predicted Y')"
      ]
     },
     "execution_count": 42,
     "metadata": {},
     "output_type": "execute_result"
    },
    {
     "data": {
      "image/png": "[encoded data removed]",
      "text/plain": [
       "<Figure size 432x288 with 1 Axes>"
      ]
     },
     "metadata": {
      "needs_background": "light"
     },
     "output_type": "display_data"
    }
   ],
   "source": [
    "plt.scatter(y_test,predictions)\n",
    "plt.xlabel('Y Test')\n",
    "plt.ylabel('Predicted Y')"
   ]
  },
  {
   "cell_type": "code",
   "execution_count": 43,
   "metadata": {},
   "outputs": [
    {
     "name": "stdout",
     "output_type": "stream",
     "text": [
      "MAE: 0.03353002492498946\n",
      "MSE: 0.0019071147721767148\n",
      "RMSE: 0.043670525210680884\n"
     ]
    }
   ],
   "source": [
    "from sklearn import metrics\n",
    "\n",
    "print('MAE:', metrics.mean_absolute_error(y_test, predictions))\n",
    "print('MSE:', metrics.mean_squared_error(y_test, predictions))\n",
    "print('RMSE:', np.sqrt(metrics.mean_squared_error(y_test, predictions)))"
   ]
  },
  {
   "cell_type": "code",
   "execution_count": 44,
   "metadata": {},
   "outputs": [
    {
     "data": {
      "image/png": "[encoded data removed]",
      "text/plain": [
       "<Figure size 432x288 with 1 Axes>"
      ]
     },
     "metadata": {
      "needs_background": "light"
     },
     "output_type": "display_data"
    }
   ],
   "source": [
    "#Plot a histogram of the residuals and make sure it looks normally distributed\n",
    "sns.distplot((y_test-predictions),bins=50);"
   ]
  },
  {
   "cell_type": "markdown",
   "metadata": {},
   "source": [
    "# Save the model"
   ]
  },
  {
   "cell_type": "code",
   "execution_count": 50,
   "metadata": {},
   "outputs": [],
   "source": [
    "import pickle"
   ]
  },
  {
   "cell_type": "code",
   "execution_count": 51,
   "metadata": {},
   "outputs": [],
   "source": [
    "filename = 'lalit_mechademy_model2'"
   ]
  },
  {
   "cell_type": "code",
   "execution_count": 52,
   "metadata": {},
   "outputs": [],
   "source": [
    "pickle.dump(lm, open(filename,'wb'))"
   ]
  },
  {
   "cell_type": "code",
   "execution_count": null,
   "metadata": {},
   "outputs": [],
   "source": []
  }
 ],
 "metadata": {
  "kernelspec": {
   "display_name": "Python 3",
   "language": "python",
   "name": "python3"
  },
  "language_info": {
   "codemirror_mode": {
    "name": "ipython",
    "version": 3
   },
   "file_extension": ".py",
   "mimetype": "text/x-python",
   "name": "python",
   "nbconvert_exporter": "python",
   "pygments_lexer": "ipython3",
   "version": "3.7.3"
  }
 },
 "nbformat": 4,
 "nbformat_minor": 2
}
